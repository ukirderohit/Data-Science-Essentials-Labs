{
 "cells": [
  {
   "cell_type": "code",
   "execution_count": 1,
   "metadata": {
    "collapsed": true
   },
   "outputs": [],
   "source": [
    "from bs4 import BeautifulSoup\n",
    "import nltk\n",
    "from nltk.corpus import stopwords\n",
    "from sklearn.feature_extraction.text import TfidfVectorizer\n",
    "from sklearn.decomposition import TruncatedSVD\n",
    "from sklearn.datasets import fetch_20newsgroups"
   ]
  },
  {
   "cell_type": "code",
   "execution_count": 2,
   "metadata": {
    "collapsed": true
   },
   "outputs": [],
   "source": [
    "categories = ['rec.sport.baseball']\n",
    "dataset = fetch_20newsgroups(subset='all',shuffle=True, random_state=42, categories=categories)\n",
    "corpus = dataset.data"
   ]
  },
  {
   "cell_type": "code",
   "execution_count": 3,
   "metadata": {
    "collapsed": false
   },
   "outputs": [
    {
     "name": "stdout",
     "output_type": "stream",
     "text": [
      "[nltk_data] Downloading package stopwords to\n",
      "[nltk_data]     C:\\Users\\Rohit\\AppData\\Roaming\\nltk_data...\n",
      "[nltk_data]   Package stopwords is already up-to-date!\n"
     ]
    },
    {
     "data": {
      "text/plain": [
       "True"
      ]
     },
     "execution_count": 3,
     "metadata": {},
     "output_type": "execute_result"
    }
   ],
   "source": [
    "nltk.download('stopwords')"
   ]
  },
  {
   "cell_type": "code",
   "execution_count": 4,
   "metadata": {
    "collapsed": true
   },
   "outputs": [],
   "source": [
    "corpus = [x.lower() for x in corpus]"
   ]
  },
  {
   "cell_type": "code",
   "execution_count": 5,
   "metadata": {
    "collapsed": false
   },
   "outputs": [
    {
     "data": {
      "text/plain": [
       "u\"from: writingctr@leo.bsuvc.bsu.edu\\nsubject: re: cub fever.\\norganization: ball state university, muncie, in - univ. computing svc's\\nlines: 21\\n\\n\\nin article <kingoz.735285670@camelot>, kingoz@camelot.bradley.edu (orin roth) writes:\\n> \\n>    cub fever is hitting me again. i'm beginning to think they have a \\n>    chance this year. (what the heck am i thinking?)\\n>    sorry. just a moment of incompetence.\\n>    i'll be ok. really. \\n>    orin.\\n>    bradley u.\\n> \\n> --\\n> i'm really a jester in disguise!                                   \\ni hear ya!  then again, we must remember that we are indeed cub fans, and\\nthat the cubs will eventually blow it.  after all, the cubs are the easiest\\nteam in the national league to root for.  no pressure.  you know they will\\nlose eventually.  oh well, i suppose we must have faith.  after all, they\\ndo look pretty good, and they don't even have sandberg back yet.  \\n\\ncubs in '93!!!!!\\n\\ncha\\n\""
      ]
     },
     "execution_count": 5,
     "metadata": {},
     "output_type": "execute_result"
    }
   ],
   "source": [
    "corpus[0]"
   ]
  },
  {
   "cell_type": "code",
   "execution_count": 6,
   "metadata": {
    "collapsed": true
   },
   "outputs": [],
   "source": [
    "stopset = set(stopwords.words('english'))"
   ]
  },
  {
   "cell_type": "code",
   "execution_count": 7,
   "metadata": {
    "collapsed": true
   },
   "outputs": [],
   "source": [
    "vectorizer = TfidfVectorizer(stop_words=stopset,use_idf=True, ngram_range=(1, 3))"
   ]
  },
  {
   "cell_type": "code",
   "execution_count": 8,
   "metadata": {
    "collapsed": true
   },
   "outputs": [],
   "source": [
    "X = vectorizer.fit_transform(corpus)"
   ]
  },
  {
   "cell_type": "code",
   "execution_count": 9,
   "metadata": {
    "collapsed": false
   },
   "outputs": [
    {
     "data": {
      "text/plain": [
       "<1x189677 sparse matrix of type '<type 'numpy.float64'>'\n",
       "\twith 232 stored elements in Compressed Sparse Row format>"
      ]
     },
     "execution_count": 9,
     "metadata": {},
     "output_type": "execute_result"
    }
   ],
   "source": [
    "X[0]"
   ]
  },
  {
   "cell_type": "code",
   "execution_count": 10,
   "metadata": {
    "collapsed": false
   },
   "outputs": [
    {
     "name": "stdout",
     "output_type": "stream",
     "text": [
      "  (0, 52209)\t0.073652687439\n",
      "  (0, 188947)\t0.073652687439\n",
      "  (0, 29674)\t0.073652687439\n",
      "  (0, 146368)\t0.073652687439\n",
      "  (0, 64821)\t0.073652687439\n",
      "  (0, 78565)\t0.073652687439\n",
      "  (0, 133659)\t0.073652687439\n",
      "  (0, 103679)\t0.073652687439\n",
      "  (0, 67208)\t0.073652687439\n",
      "  (0, 114755)\t0.073652687439\n",
      "  (0, 163238)\t0.073652687439\n",
      "  (0, 180956)\t0.073652687439\n",
      "  (0, 120118)\t0.073652687439\n",
      "  (0, 64959)\t0.073652687439\n",
      "  (0, 104171)\t0.073652687439\n",
      "  (0, 95951)\t0.073652687439\n",
      "  (0, 133574)\t0.073652687439\n",
      "  (0, 143532)\t0.073652687439\n",
      "  (0, 98564)\t0.073652687439\n",
      "  (0, 115396)\t0.073652687439\n",
      "  (0, 165609)\t0.073652687439\n",
      "  (0, 60032)\t0.073652687439\n",
      "  (0, 52249)\t0.073652687439\n",
      "  (0, 36448)\t0.073652687439\n",
      "  (0, 64945)\t0.073652687439\n",
      "  :\t:\n",
      "  (0, 143768)\t0.0553482070951\n",
      "  (0, 122784)\t0.11069641419\n",
      "  (0, 38247)\t0.0992624283609\n",
      "  (0, 41420)\t0.104818537242\n",
      "  (0, 17299)\t0.073652687439\n",
      "  (0, 95355)\t0.11069641419\n",
      "  (0, 26496)\t0.0161246502539\n",
      "  (0, 7924)\t0.0376276528198\n",
      "  (0, 101375)\t0.0102777150507\n",
      "  (0, 163827)\t0.0608545549183\n",
      "  (0, 48932)\t0.0389063101002\n",
      "  (0, 175382)\t0.0392526458093\n",
      "  (0, 114553)\t0.0608545549183\n",
      "  (0, 175418)\t0.0179872336028\n",
      "  (0, 158870)\t0.0373315183174\n",
      "  (0, 30196)\t0.030697863019\n",
      "  (0, 122169)\t0.0102983950679\n",
      "  (0, 68764)\t0.124858693402\n",
      "  (0, 52131)\t0.161320245937\n",
      "  (0, 161758)\t0.0102159249934\n",
      "  (0, 60531)\t0.0237947331321\n",
      "  (0, 39489)\t0.0506536592862\n",
      "  (0, 39499)\t0.0506536592862\n",
      "  (0, 99576)\t0.0496312141805\n",
      "  (0, 186434)\t0.073652687439\n"
     ]
    }
   ],
   "source": [
    "print X[0]"
   ]
  },
  {
   "cell_type": "code",
   "execution_count": null,
   "metadata": {
    "collapsed": true
   },
   "outputs": [],
   "source": []
  }
 ],
 "metadata": {
  "anaconda-cloud": {},
  "kernelspec": {
   "display_name": "Python [Root]",
   "language": "python",
   "name": "Python [Root]"
  },
  "language_info": {
   "codemirror_mode": {
    "name": "ipython",
    "version": 2
   },
   "file_extension": ".py",
   "mimetype": "text/x-python",
   "name": "python",
   "nbconvert_exporter": "python",
   "pygments_lexer": "ipython2",
   "version": "2.7.12"
  }
 },
 "nbformat": 4,
 "nbformat_minor": 0
}
